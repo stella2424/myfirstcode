{
 "cells": [
  {
   "cell_type": "code",
   "execution_count": 1,
   "id": "0d600d12-3cdd-4375-b31c-61880fb2bb8d",
   "metadata": {},
   "outputs": [
    {
     "name": "stdout",
     "output_type": "stream",
     "text": [
      "hello lepuphana\n"
     ]
    }
   ],
   "source": [
    "print(\"hello lepuphana\")"
   ]
  },
  {
   "cell_type": "code",
   "execution_count": 2,
   "id": "313b7116-b922-4d8d-902a-5bc176a65ec0",
   "metadata": {},
   "outputs": [
    {
     "name": "stdout",
     "output_type": "stream",
     "text": [
      "237\n"
     ]
    }
   ],
   "source": [
    "x=3+234\n",
    "print(x)"
   ]
  },
  {
   "cell_type": "code",
   "execution_count": null,
   "id": "5e8377a1-331a-4703-9129-6b37fc02f217",
   "metadata": {},
   "outputs": [],
   "source": []
  }
 ],
 "metadata": {
  "kernelspec": {
   "display_name": "Python 3 (ipykernel)",
   "language": "python",
   "name": "python3"
  },
  "language_info": {
   "codemirror_mode": {
    "name": "ipython",
    "version": 3
   },
   "file_extension": ".py",
   "mimetype": "text/x-python",
   "name": "python",
   "nbconvert_exporter": "python",
   "pygments_lexer": "ipython3",
   "version": "3.8.20"
  }
 },
 "nbformat": 4,
 "nbformat_minor": 5
}
